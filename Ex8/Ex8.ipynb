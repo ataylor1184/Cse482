{
 "cells": [
  {
   "cell_type": "code",
   "execution_count": 1,
   "metadata": {},
   "outputs": [
    {
     "data": {
      "text/html": [
       "<div>\n",
       "<style scoped>\n",
       "    .dataframe tbody tr th:only-of-type {\n",
       "        vertical-align: middle;\n",
       "    }\n",
       "\n",
       "    .dataframe tbody tr th {\n",
       "        vertical-align: top;\n",
       "    }\n",
       "\n",
       "    .dataframe thead th {\n",
       "        text-align: right;\n",
       "    }\n",
       "</style>\n",
       "<table border=\"1\" class=\"dataframe\">\n",
       "  <thead>\n",
       "    <tr style=\"text-align: right;\">\n",
       "      <th></th>\n",
       "      <th>class</th>\n",
       "      <th>b1</th>\n",
       "      <th>b2</th>\n",
       "      <th>b3</th>\n",
       "      <th>b4</th>\n",
       "      <th>b5</th>\n",
       "      <th>b6</th>\n",
       "      <th>b7</th>\n",
       "      <th>b8</th>\n",
       "      <th>b9</th>\n",
       "      <th>...</th>\n",
       "      <th>pred_minus_obs_H_b9</th>\n",
       "      <th>pred_minus_obs_S_b1</th>\n",
       "      <th>pred_minus_obs_S_b2</th>\n",
       "      <th>pred_minus_obs_S_b3</th>\n",
       "      <th>pred_minus_obs_S_b4</th>\n",
       "      <th>pred_minus_obs_S_b5</th>\n",
       "      <th>pred_minus_obs_S_b6</th>\n",
       "      <th>pred_minus_obs_S_b7</th>\n",
       "      <th>pred_minus_obs_S_b8</th>\n",
       "      <th>pred_minus_obs_S_b9</th>\n",
       "    </tr>\n",
       "  </thead>\n",
       "  <tbody>\n",
       "    <tr>\n",
       "      <td>0</td>\n",
       "      <td>d</td>\n",
       "      <td>39</td>\n",
       "      <td>36</td>\n",
       "      <td>57</td>\n",
       "      <td>91</td>\n",
       "      <td>59</td>\n",
       "      <td>101</td>\n",
       "      <td>93</td>\n",
       "      <td>27</td>\n",
       "      <td>60</td>\n",
       "      <td>...</td>\n",
       "      <td>-2.36</td>\n",
       "      <td>-18.41</td>\n",
       "      <td>-1.88</td>\n",
       "      <td>-6.43</td>\n",
       "      <td>-21.03</td>\n",
       "      <td>-1.60</td>\n",
       "      <td>-6.18</td>\n",
       "      <td>-22.50</td>\n",
       "      <td>-5.20</td>\n",
       "      <td>-7.86</td>\n",
       "    </tr>\n",
       "    <tr>\n",
       "      <td>1</td>\n",
       "      <td>h</td>\n",
       "      <td>84</td>\n",
       "      <td>30</td>\n",
       "      <td>57</td>\n",
       "      <td>112</td>\n",
       "      <td>51</td>\n",
       "      <td>98</td>\n",
       "      <td>92</td>\n",
       "      <td>26</td>\n",
       "      <td>62</td>\n",
       "      <td>...</td>\n",
       "      <td>-2.26</td>\n",
       "      <td>-16.27</td>\n",
       "      <td>-1.95</td>\n",
       "      <td>-6.25</td>\n",
       "      <td>-18.79</td>\n",
       "      <td>-1.99</td>\n",
       "      <td>-6.18</td>\n",
       "      <td>-23.41</td>\n",
       "      <td>-8.87</td>\n",
       "      <td>-10.83</td>\n",
       "    </tr>\n",
       "    <tr>\n",
       "      <td>2</td>\n",
       "      <td>s</td>\n",
       "      <td>53</td>\n",
       "      <td>25</td>\n",
       "      <td>49</td>\n",
       "      <td>99</td>\n",
       "      <td>51</td>\n",
       "      <td>93</td>\n",
       "      <td>84</td>\n",
       "      <td>26</td>\n",
       "      <td>58</td>\n",
       "      <td>...</td>\n",
       "      <td>-1.46</td>\n",
       "      <td>-15.92</td>\n",
       "      <td>-1.79</td>\n",
       "      <td>-4.64</td>\n",
       "      <td>-17.73</td>\n",
       "      <td>-0.48</td>\n",
       "      <td>-4.69</td>\n",
       "      <td>-19.97</td>\n",
       "      <td>-4.10</td>\n",
       "      <td>-7.07</td>\n",
       "    </tr>\n",
       "    <tr>\n",
       "      <td>3</td>\n",
       "      <td>s</td>\n",
       "      <td>59</td>\n",
       "      <td>26</td>\n",
       "      <td>49</td>\n",
       "      <td>103</td>\n",
       "      <td>47</td>\n",
       "      <td>92</td>\n",
       "      <td>82</td>\n",
       "      <td>25</td>\n",
       "      <td>56</td>\n",
       "      <td>...</td>\n",
       "      <td>2.68</td>\n",
       "      <td>-13.77</td>\n",
       "      <td>-2.53</td>\n",
       "      <td>-6.34</td>\n",
       "      <td>-22.03</td>\n",
       "      <td>-2.34</td>\n",
       "      <td>-6.60</td>\n",
       "      <td>-27.10</td>\n",
       "      <td>-7.99</td>\n",
       "      <td>-10.81</td>\n",
       "    </tr>\n",
       "    <tr>\n",
       "      <td>4</td>\n",
       "      <td>d</td>\n",
       "      <td>57</td>\n",
       "      <td>49</td>\n",
       "      <td>66</td>\n",
       "      <td>103</td>\n",
       "      <td>64</td>\n",
       "      <td>106</td>\n",
       "      <td>114</td>\n",
       "      <td>28</td>\n",
       "      <td>59</td>\n",
       "      <td>...</td>\n",
       "      <td>-2.94</td>\n",
       "      <td>-21.74</td>\n",
       "      <td>-1.64</td>\n",
       "      <td>-4.62</td>\n",
       "      <td>-23.74</td>\n",
       "      <td>-0.85</td>\n",
       "      <td>-5.50</td>\n",
       "      <td>-22.83</td>\n",
       "      <td>-2.74</td>\n",
       "      <td>-5.84</td>\n",
       "    </tr>\n",
       "  </tbody>\n",
       "</table>\n",
       "<p>5 rows × 28 columns</p>\n",
       "</div>"
      ],
      "text/plain": [
       "  class  b1  b2  b3   b4  b5   b6   b7  b8  b9  ...  pred_minus_obs_H_b9  \\\n",
       "0    d   39  36  57   91  59  101   93  27  60  ...                -2.36   \n",
       "1    h   84  30  57  112  51   98   92  26  62  ...                -2.26   \n",
       "2    s   53  25  49   99  51   93   84  26  58  ...                -1.46   \n",
       "3    s   59  26  49  103  47   92   82  25  56  ...                 2.68   \n",
       "4    d   57  49  66  103  64  106  114  28  59  ...                -2.94   \n",
       "\n",
       "   pred_minus_obs_S_b1  pred_minus_obs_S_b2  pred_minus_obs_S_b3  \\\n",
       "0               -18.41                -1.88                -6.43   \n",
       "1               -16.27                -1.95                -6.25   \n",
       "2               -15.92                -1.79                -4.64   \n",
       "3               -13.77                -2.53                -6.34   \n",
       "4               -21.74                -1.64                -4.62   \n",
       "\n",
       "   pred_minus_obs_S_b4  pred_minus_obs_S_b5  pred_minus_obs_S_b6  \\\n",
       "0               -21.03                -1.60                -6.18   \n",
       "1               -18.79                -1.99                -6.18   \n",
       "2               -17.73                -0.48                -4.69   \n",
       "3               -22.03                -2.34                -6.60   \n",
       "4               -23.74                -0.85                -5.50   \n",
       "\n",
       "   pred_minus_obs_S_b7  pred_minus_obs_S_b8  pred_minus_obs_S_b9  \n",
       "0               -22.50                -5.20                -7.86  \n",
       "1               -23.41                -8.87               -10.83  \n",
       "2               -19.97                -4.10                -7.07  \n",
       "3               -27.10                -7.99               -10.81  \n",
       "4               -22.83                -2.74                -5.84  \n",
       "\n",
       "[5 rows x 28 columns]"
      ]
     },
     "execution_count": 1,
     "metadata": {},
     "output_type": "execute_result"
    }
   ],
   "source": [
    "import pandas as pd\n",
    "\n",
    "train = pd.read_csv('training.csv',header='infer')\n",
    "num_rows_training = train.count(axis = 1);\n",
    "print(f'Number of rows in training set = {len(num_rows_training)}')\n",
    "\n",
    "test = pd.read_csv('testing.csv',header='infer')\n",
    "num_rows_testing = test.count(axis = 1);\n",
    "print(f'Number of rows in testing set = {len(num_rows_testing)}')\n",
    "\n",
    "train.head()"
   ]
  },
  {
   "cell_type": "code",
   "execution_count": 2,
   "metadata": {},
   "outputs": [
    {
     "name": "stdout",
     "output_type": "stream",
     "text": [
      "   Class distribution for training data:\n",
      "s                               0.297980\n",
      "d                               0.272727\n",
      "h                               0.242424\n",
      "o                               0.186869\n",
      "\n",
      "   Class distribution for test data:\n",
      "s                           0.418462\n",
      "d                           0.323077\n",
      "o                           0.141538\n",
      "h                           0.116923\n"
     ]
    }
   ],
   "source": [
    "s_count_test = test['class'].str.contains('s').sum()\n",
    "h_count_test = test['class'].str.contains('h').sum()\n",
    "d_count_test = test['class'].str.contains('d').sum()\n",
    "o_count_test = test['class'].str.contains('o').sum()\n",
    "\n",
    "s_count_train = train['class'].str.contains('s').sum()\n",
    "h_count_train = train['class'].str.contains('h').sum()\n",
    "d_count_train = train['class'].str.contains('d').sum()\n",
    "o_count_train = train['class'].str.contains('o').sum()\n",
    "\n",
    "training_dist = pd.Series([s_count_train/len(num_rows_training),\n",
    "                           d_count_train/len(num_rows_training),\n",
    "                           h_count_train/len(num_rows_training),\n",
    "                           o_count_train/len(num_rows_training)] ,\n",
    "                           index = ['s', 'd', 'h', 'o'], name = \"Class distribution for training data:\").to_frame()\n",
    "\n",
    "testing_dist = pd.Series([s_count_test/len(num_rows_testing),\n",
    "                          d_count_test/len(num_rows_testing),\n",
    "                          o_count_test/len(num_rows_testing),\n",
    "                          h_count_test/len(num_rows_testing)],\n",
    "                          index = ['s', 'd', 'o', 'h'], name = \"Class distribution for test data:\").to_frame()\n",
    "\n",
    "\n",
    "print(training_dist)\n",
    "print()\n",
    "print(testing_dist)"
   ]
  },
  {
   "cell_type": "code",
   "execution_count": 3,
   "metadata": {},
   "outputs": [],
   "source": [
    "from sklearn.model_selection import train_test_split\n",
    "\n",
    "Y_train = pd.Series(train['class'].values)\n",
    "Y_test = pd.Series(test['class'].values)\n",
    "X_train = train.drop(labels = 'class' , axis = 1)\n",
    "X_test = test.drop(labels = 'class' , axis = 1 )"
   ]
  },
  {
   "cell_type": "code",
   "execution_count": 6,
   "metadata": {},
   "outputs": [
    {
     "name": "stdout",
     "output_type": "stream",
     "text": [
      "Test Accuracy 0.796923076923077\n"
     ]
    }
   ],
   "source": [
    "from sklearn import tree\n",
    "from sklearn.metrics import accuracy_score\n",
    "\n",
    "clf = tree.DecisionTreeClassifier();\n",
    "\n",
    "clf = clf.fit(X_train, Y_train)\n",
    "\n",
    "Y_pred = clf.predict(X_test)\n",
    "\n",
    "score = accuracy_score(Y_test, Y_pred)\n",
    "\n",
    "print(\"Test Accuracy\" , score)"
   ]
  },
  {
   "cell_type": "code",
   "execution_count": 7,
   "metadata": {},
   "outputs": [
    {
     "name": "stdout",
     "output_type": "stream",
     "text": [
      "Best hyper param :  2\n",
      "test accuracy : 0.8\n"
     ]
    },
    {
     "data": {
      "text/plain": [
       "(0.7, 1.0)"
      ]
     },
     "execution_count": 7,
     "metadata": {},
     "output_type": "execute_result"
    },
    {
     "data": {
      "image/png": "[encoded data removed]",
      "text/plain": [
       "<Figure size 432x288 with 1 Axes>"
      ]
     },
     "metadata": {
      "needs_background": "light"
     },
     "output_type": "display_data"
    }
   ],
   "source": [
    "import numpy as np\n",
    "from sklearn import tree\n",
    "from sklearn.metrics import accuracy_score\n",
    "from sklearn.model_selection import cross_val_score\n",
    "import matplotlib.pyplot as plt\n",
    "%matplotlib inline\n",
    "\n",
    "maxdepths = [1,2,3,4,5,6,7,8,9,10]\n",
    "\n",
    "validationAcc = np.zeros(len(maxdepths))\n",
    "testAcc = np.zeros(len(maxdepths))\n",
    "numFolds = 10\n",
    "index = 0\n",
    "\n",
    "for depth in maxdepths:\n",
    "    clf = tree.DecisionTreeClassifier(max_depth = depth, random_state = 1)\n",
    "    scores = cross_val_score(clf, X_train, Y_train, cv= numFolds)\n",
    "    validationAcc[index] = np.mean(scores)\n",
    " \n",
    "    clf = clf.fit(X_train, Y_train)\n",
    "    Y_predTest = clf.predict(X_test)\n",
    "    \n",
    "    testAcc[index] = accuracy_score(Y_test, Y_predTest)\n",
    "    \n",
    "    bestHyperparam = np.argmax(validationAcc)\n",
    "    index += 1\n",
    "    \n",
    "print(\"Best hyper param : \" , maxdepths[bestHyperparam])\n",
    "print(\"test accuracy :\" , testAcc[bestHyperparam])\n",
    "    \n",
    "\n",
    "plt.plot(maxdepths, validationAcc, 'ro-', maxdepths, testAcc, 'bv--')\n",
    "plt.xlabel('Maximum Depth')\n",
    "plt.ylabel('Accuracy')\n",
    "plt.title('Decision Tree')\n",
    "plt.legend(['Validation', 'Testing'])\n",
    "plt.ylim([0.7, 1.0])\n"
   ]
  },
  {
   "cell_type": "code",
   "execution_count": 16,
   "metadata": {},
   "outputs": [
    {
     "name": "stdout",
     "output_type": "stream",
     "text": [
      "Best hyperparameter: k = 1\n",
      "Test Accuracy = 0.8646153846153846\n"
     ]
    },
    {
     "data": {
      "text/plain": [
       "(0.7, 1.0)"
      ]
     },
     "execution_count": 16,
     "metadata": {},
     "output_type": "execute_result"
    },
    {
     "data": {
      "image/png": "[encoded data removed]",
      "text/plain": [
       "<Figure size 432x288 with 1 Axes>"
      ]
     },
     "metadata": {
      "needs_background": "light"
     },
     "output_type": "display_data"
    }
   ],
   "source": [
    "from sklearn.neighbors import KNeighborsClassifier\n",
    "\n",
    "numNeighbors = [1,3,5,7,10,15,20,25,30]\n",
    "validationAcc = np.zeros(len(numNeighbors))\n",
    "knn_acc = []\n",
    "numFolds = 10\n",
    "index = 0\n",
    "for nn in numNeighbors:\n",
    "    scores = cross_val_score(clf, X_train, Y_train, cv= numFolds)\n",
    "    validationAcc[index] = np.mean(scores)\n",
    "    \n",
    "    clf = KNeighborsClassifier(n_neighbors=nn)\n",
    "    clf.fit(X_train, Y_train)\n",
    "    Y_pred = clf.predict(X_test)\n",
    "    knn_acc.append(accuracy_score(Y_test, Y_pred))\n",
    "    index += 1 \n",
    "    \n",
    "bestHyperparam = np.argmax(knn_acc)\n",
    "print('Best hyperparameter: k =', numNeighbors[bestHyperparam])\n",
    "print('Test Accuracy =', knn_acc[bestHyperparam])\n",
    "    \n",
    "plt.plot(numNeighbors, validationAcc, 'ro-', numNeighbors,knn_acc , 'bv--')\n",
    "plt.xlabel('Number of neighbors')\n",
    "plt.ylabel('Accuracy')\n",
    "plt.title('k-nearest neighbors')\n",
    "plt.legend(['Validation','Testing'])\n",
    "plt.ylim([0.7,1.0])"
   ]
  },
  {
   "cell_type": "code",
   "execution_count": 20,
   "metadata": {},
   "outputs": [
    {
     "name": "stdout",
     "output_type": "stream",
     "text": [
      "Best hyperparameter, C = 0.2\n",
      "Test Accuracy = 0.8492307692307692\n"
     ]
    },
    {
     "data": {
      "image/png": "[encoded data removed]",
      "text/plain": [
       "<Figure size 432x288 with 1 Axes>"
      ]
     },
     "metadata": {
      "needs_background": "light"
     },
     "output_type": "display_data"
    }
   ],
   "source": [
    "from sklearn import linear_model\n",
    "import warnings\n",
    "with warnings.catch_warnings():\n",
    "    warnings.filterwarnings(\"ignore\")\n",
    "    \n",
    "    regularizers = [0.01, 0.02, 0.05, 0.1, 0.2, 0.3, 0.4, 0.5]\n",
    "    logistic_acc = np.zeros(len(regularizers))\n",
    "    validationAcc = np.zeros(len(regularizers))\n",
    "    index = 0\n",
    "    numFolds = 10\n",
    "\n",
    "    for reg in regularizers:\n",
    "        clf = linear_model.LogisticRegression(C = reg, penalty = 'l1', solver = 'liblinear', random_state=1)\n",
    "        clf.fit(X_train, Y_train)\n",
    "        Y_pred = clf.predict(X_test)\n",
    "        logistic_acc[index] = (accuracy_score(Y_test, Y_pred))\n",
    "        scores = cross_val_score(clf, X_train, Y_train, cv= numFolds)\n",
    "        validationAcc[index] = np.mean(scores)\n",
    "        index += 1\n",
    "\n",
    "    bestHyperparam = np.argmax(logistic_acc)  \n",
    "    plt.plot(regularizers, validationAcc, 'ro-', regularizers, logistic_acc, 'bv--')\n",
    "    plt.xlabel('Regularizer (C)')\n",
    "    plt.ylabel('Accuracy')\n",
    "    plt.title('Logistic regression')\n",
    "    plt.legend(['Validation','Testing'])\n",
    "    plt.ylim([0.7,1.0])\n",
    "\n",
    "\n",
    "    print('Best hyperparameter, C =', regularizers[bestHyperparam])\n",
    "    print('Test Accuracy =', logistic_acc[bestHyperparam])\n",
    "\n",
    "\n"
   ]
  },
  {
   "cell_type": "code",
   "execution_count": null,
   "metadata": {},
   "outputs": [],
   "source": []
  }
 ],
 "metadata": {
  "kernelspec": {
   "display_name": "Python 3",
   "language": "python",
   "name": "python3"
  },
  "language_info": {
   "codemirror_mode": {
    "name": "ipython",
    "version": 3
   },
   "file_extension": ".py",
   "mimetype": "text/x-python",
   "name": "python",
   "nbconvert_exporter": "python",
   "pygments_lexer": "ipython3",
   "version": "3.7.4"
  }
 },
 "nbformat": 4,
 "nbformat_minor": 2
}
