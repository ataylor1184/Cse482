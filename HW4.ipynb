{
 "cells": [
  {
   "cell_type": "code",
   "execution_count": null,
   "metadata": {},
   "outputs": [],
   "source": [
    "#PART 1\n",
    "#a )  Distances\n",
    "\"\"\"\n",
    "Data point      distance to test instance\n",
    "p1                  .364\n",
    "p2                  .1\n",
    "p3                  .461\n",
    "p4                  .461\n",
    "p5                  .4924\n",
    "p6                  .255\n",
    "p7                  .112\n",
    "p8                  .3201\n",
    "p9                  .158\n",
    "p10                 .1802\n",
    "\"\"\""
   ]
  },
  {
   "cell_type": "code",
   "execution_count": null,
   "metadata": {},
   "outputs": [],
   "source": [
    "#b) \n",
    "\"\"\"\n",
    "classification : ' + '\n",
    "\n",
    "\"\"\""
   ]
  },
  {
   "cell_type": "code",
   "execution_count": null,
   "metadata": {},
   "outputs": [],
   "source": [
    "#c) \n",
    "\"\"\"\n",
    "classification : ' - '\n",
    "\n",
    "\"\"\""
   ]
  },
  {
   "cell_type": "code",
   "execution_count": null,
   "metadata": {},
   "outputs": [],
   "source": [
    "#D)\n",
    "\"\"\"\n",
    "Classifying the point as negative is more reliable in this case. P2 is the only positive point our test case\n",
    "is close to. To get a second positive point you would have to look at the 7th closest point\n",
    "\"\"\""
   ]
  },
  {
   "cell_type": "code",
   "execution_count": null,
   "metadata": {},
   "outputs": [],
   "source": [
    "#E)\n",
    "\"\"\"\n",
    "(-122.1774 * .2) + (-73.36 + .55) + (73.3023) \n",
    "-8.5672\n",
    "\n",
    "It's class label is negative.\n",
    "\"\"\""
   ]
  },
  {
   "cell_type": "code",
   "execution_count": null,
   "metadata": {},
   "outputs": [],
   "source": [
    "#2) \n",
    "\n",
    "\"\"\"\n",
    "A)          Cluster assignment of data points                Centroid Locations\n",
    "    iter   0.1  0.2  0.8  0.9  1.0  1.3  1.8  1.9            A       B       C\n",
    "    0       -    -    -    -    -    -    -    -             0.1    0.2     1.9\n",
    "    1       A    A    B    B    B    C    C    C             0.1    0.6     1.66\n",
    "    2       A    A    B    B    B    C    C    C             0.15   0.6     1.66\n",
    "    3       A    A    B    B    B    C    C    C             0.15   0.6     1.66            \n",
    "\"\"\""
   ]
  },
  {
   "cell_type": "code",
   "execution_count": null,
   "metadata": {},
   "outputs": [],
   "source": [
    "\"\"\"\n",
    "B)\n",
    "    \n",
    "SSE for A = .5093\n",
    "\n",
    "\"\"\""
   ]
  },
  {
   "cell_type": "code",
   "execution_count": null,
   "metadata": {},
   "outputs": [],
   "source": [
    "\"\"\"\n",
    "C)          Cluster assignment of data points                Centroid Locations\n",
    "    iter   0.1  0.2  0.8  0.9  1.0  1.3  1.8  1.9            A       B       C\n",
    "    0       -    -    -    -    -    -    -    -             0.8    1.0     1.8\n",
    "    1       A    A    A    A    B    B    C    C             0.5    1.15    1.35\n",
    "    2       A    A    A    B    B    C    C    C             0.37   0.95    1.6\n",
    "    3       A    A    B    B    B    C    C    C             0.15   0.9     1.33   \n",
    "    4       A    A    B    B    B    C    C    C             0.15   0.9     1.33        \n",
    "\n",
    "\n",
    "\"\"\""
   ]
  },
  {
   "cell_type": "code",
   "execution_count": null,
   "metadata": {},
   "outputs": [],
   "source": [
    "\"\"\"\n",
    "D)\n",
    "    \n",
    "SSE for C = .5717\n",
    "\n",
    "\n",
    "The Solution in A is better in terms of SSE.\n",
    "\n",
    "\"\"\""
   ]
  },
  {
   "cell_type": "code",
   "execution_count": null,
   "metadata": {},
   "outputs": [],
   "source": [
    "\"\"\"\n",
    "#3 A) \n",
    "    \n",
    "2- Item Sets             support values\n",
    "Bread, Eggs                 4/10\n",
    "Bread, Milk                 5/10 \n",
    "Bread, Butter               5/10\n",
    "Butter, Milk                5/10\n",
    "      \n",
    "      \n",
    "#3 B)\n",
    "3- Item Sets             support values\n",
    "Bread, Eggs, Milk           3/10\n",
    "Bread, Butter, Eggs         3/10\n",
    "Bread, Butter,  Milk        4/10\n",
    "\n",
    "\n",
    "# C)\n",
    "\n",
    "Bread, Butter,  Milk        \n",
    "\n",
    "\n",
    "# D)\n",
    "Frequent Itemset Rules\n",
    "Bread          -> Butter, Milk\n",
    "Butter         -> Bread, Milk\n",
    "Milk           -> Bread, Butter\n",
    "Bread, Milk    -> Butter\n",
    "Butter, Milk   -> Bread\n",
    "Bread, Butter  -> Milk\n",
    "\n",
    "\n",
    "\n",
    "#E) \n",
    "    Rule                        Confidence      Support\n",
    "    Bread, Milk    -> Butter        1.0          4/10\n",
    "    Butter, Milk   -> Bread         1.0          4/10\n",
    "    Bread, Butter  -> Milk           .8          4/10\n",
    "\n",
    "\"\"\""
   ]
  },
  {
   "cell_type": "code",
   "execution_count": 1,
   "metadata": {},
   "outputs": [
    {
     "data": {
      "text/html": [
       "<div>\n",
       "<style scoped>\n",
       "    .dataframe tbody tr th:only-of-type {\n",
       "        vertical-align: middle;\n",
       "    }\n",
       "\n",
       "    .dataframe tbody tr th {\n",
       "        vertical-align: top;\n",
       "    }\n",
       "\n",
       "    .dataframe thead th {\n",
       "        text-align: right;\n",
       "    }\n",
       "</style>\n",
       "<table border=\"1\" class=\"dataframe\">\n",
       "  <thead>\n",
       "    <tr style=\"text-align: right;\">\n",
       "      <th></th>\n",
       "      <th>x1</th>\n",
       "      <th>x2</th>\n",
       "    </tr>\n",
       "  </thead>\n",
       "  <tbody>\n",
       "    <tr>\n",
       "      <td>0</td>\n",
       "      <td>1.1700</td>\n",
       "      <td>1.2809</td>\n",
       "    </tr>\n",
       "    <tr>\n",
       "      <td>1</td>\n",
       "      <td>1.5799</td>\n",
       "      <td>0.6373</td>\n",
       "    </tr>\n",
       "    <tr>\n",
       "      <td>2</td>\n",
       "      <td>0.2857</td>\n",
       "      <td>0.6620</td>\n",
       "    </tr>\n",
       "    <tr>\n",
       "      <td>3</td>\n",
       "      <td>1.2726</td>\n",
       "      <td>0.7440</td>\n",
       "    </tr>\n",
       "    <tr>\n",
       "      <td>4</td>\n",
       "      <td>1.1008</td>\n",
       "      <td>0.0689</td>\n",
       "    </tr>\n",
       "  </tbody>\n",
       "</table>\n",
       "</div>"
      ],
      "text/plain": [
       "       x1      x2\n",
       "0  1.1700  1.2809\n",
       "1  1.5799  0.6373\n",
       "2  0.2857  0.6620\n",
       "3  1.2726  0.7440\n",
       "4  1.1008  0.0689"
      ]
     },
     "execution_count": 1,
     "metadata": {},
     "output_type": "execute_result"
    },
    {
     "data": {
      "image/png": "[encoded data removed]",
      "text/plain": [
       "<Figure size 432x288 with 1 Axes>"
      ]
     },
     "metadata": {
      "needs_background": "light"
     },
     "output_type": "display_data"
    }
   ],
   "source": [
    "#PART 2\n",
    "\n",
    "import pandas as pd\n",
    "import matplotlib\n",
    "import warnings\n",
    "warnings.filterwarnings(\"ignore\")\n",
    "\n",
    "%matplotlib inline\n",
    "\n",
    "data = pd.read_csv('2d_data2.csv', names = ['x1' , 'x2'])\n",
    "data.plot.scatter(x = 'x1', y = 'x2')\n",
    "data.head()"
   ]
  },
  {
   "cell_type": "code",
   "execution_count": 2,
   "metadata": {},
   "outputs": [],
   "source": [
    "from sklearn import cluster\n",
    "import numpy as np\n",
    "\n",
    "\n",
    "def calc_SSE(points, centroids,sse, replacement_index):\n",
    "    cent_index = 0\n",
    "    for i in points.cluster.unique():\n",
    "        cluster = points[points.cluster == i]\n",
    "        temp = [0 for x in range(0, len(centroids))]\n",
    "        for index, row in cluster.iterrows():\n",
    "             temp[0] += (row[0] - centroids[cent_index][0])**2\n",
    "             temp[1] += (row[1] - centroids[cent_index][1])**2\n",
    "        cent_index += 1\n",
    "        if i == replacement_index:\n",
    "            sse[replacement_index] = temp[0] + temp[1]\n",
    "        else:        \n",
    "            sse.append(temp[0] + temp[1])\n",
    "\n",
    "\n",
    "def bisect(data, k, seed = 1):\n",
    "    \n",
    "    labels = pd.Series(np.zeros(data.shape[0]))\n",
    "\n",
    "    SSE = []\n",
    "    SSE.append(1365)\n",
    "\n",
    "    data['cluster'] = 0\n",
    "        \n",
    "    print('Iteration 0  SSE =', SSE)\n",
    "    \"\"\"\n",
    "    refactoring commented shit below\n",
    "    need to rework SSE Calculation...\n",
    "    \n",
    "    \"\"\"\n",
    "    for numClusters in np.arange(1,k): \n",
    "        #choose cluster to split up\n",
    "        cluster_to_split = SSE.index(max(SSE))\n",
    "        #temp is THAT cluster\n",
    "        temp = data[data.cluster == cluster_to_split]\n",
    "        #fit and split it into 2 clusters\n",
    "        clusters = cluster.KMeans(n_clusters=2)\n",
    "        clusters.fit(temp)\n",
    "\n",
    "        init_centroids = clusters.cluster_centers_\n",
    "        temp['cluster'] = clusters.labels_\n",
    "        #adjusting labels, not needed first iteration\n",
    "        if numClusters != 1:\n",
    "            for index, row in temp.iterrows():\n",
    "                if row[2] == 1 :\n",
    "                    temp['cluster'][index] = numClusters\n",
    "                else:\n",
    "                    temp['cluster'][index] = cluster_to_split\n",
    "            \n",
    "        for index, row in temp.iterrows():\n",
    "            data['cluster'][index] = row[2]\n",
    "        \n",
    "        calc_SSE(temp,init_centroids, SSE, cluster_to_split)\n",
    "        \n",
    "        \n",
    "        \n",
    "        print('Iteration', numClusters, ' SSE =', SSE)\n",
    "    labels = data['cluster']\n",
    "    return labels"
   ]
  },
  {
   "cell_type": "code",
   "execution_count": 3,
   "metadata": {},
   "outputs": [
    {
     "name": "stdout",
     "output_type": "stream",
     "text": [
      "Iteration 0  SSE = [1365]\n",
      "Iteration 1  SSE = [2103.4707919028338, 2093.872453869999]\n",
      "Iteration 2  SSE = [300.0404370126668, 2093.872453869999, 298.964004146]\n",
      "Iteration 3  SSE = [300.0404370126668, 272.3081976337719, 298.964004146, 265.1841053814029]\n",
      "Iteration 4  SSE = [4.395181066999999, 272.3081976337719, 298.964004146, 265.1841053814029, 4.958932097666667]\n",
      "Iteration 5  SSE = [4.395181066999999, 272.3081976337719, 72.56613913260404, 265.1841053814029, 4.958932097666667, 68.91895606921958]\n",
      "Iteration 6  SSE = [4.395181066999999, 74.05882491360043, 72.56613913260404, 265.1841053814029, 4.958932097666667, 68.91895606921958, 78.53464860638888]\n",
      "Iteration 7  SSE = [4.395181066999999, 74.05882491360043, 72.56613913260404, 73.65474514592222, 4.958932097666667, 68.91895606921958, 78.53464860638888, 77.16152475356722]\n"
     ]
    },
    {
     "data": {
      "text/plain": [
       "<matplotlib.axes._subplots.AxesSubplot at 0x1f4863e3d88>"
      ]
     },
     "execution_count": 3,
     "metadata": {},
     "output_type": "execute_result"
    },
    {
     "data": {
      "image/png": "[encoded data removed]",
      "text/plain": [
       "<Figure size 432x288 with 2 Axes>"
      ]
     },
     "metadata": {
      "needs_background": "light"
     },
     "output_type": "display_data"
    }
   ],
   "source": [
    "data['labels'] = bisect(data, 8, 1)\n",
    "data.plot.scatter(x = 'x1', y = 'x2', c = 'labels' , colormap='jet')"
   ]
  },
  {
   "cell_type": "code",
   "execution_count": 69,
   "metadata": {},
   "outputs": [
    {
     "name": "stdout",
     "output_type": "stream",
     "text": [
      "    0    1    2    3    4    5    6    7    8    9    10   11   12   13   14  \\\n",
      "0  1.0  1.0  1.0  1.0  1.0  1.0  1.0  1.0  1.0  1.0  1.0  1.0  1.0  1.0  1.0   \n",
      "1  1.0  1.0  1.0  1.0  1.0  2.0  1.0  2.0  1.0  2.0  2.0  1.0  1.0  2.0  1.0   \n",
      "2  3.0  2.0  2.0  2.0  2.0  2.0  2.0  2.0  3.0  1.0  1.0  2.0  2.0  8.0  1.0   \n",
      "3  3.0  1.0  1.0  1.0  2.0  2.0  2.0  1.0  3.0  1.0  1.0  4.0  2.0  5.0  3.0   \n",
      "4  3.0  2.0  2.0  2.0  2.0  2.0  2.0  1.0  2.0  2.0  2.0  4.0  2.0  4.0  3.0   \n",
      "5  3.0  1.0  1.0  1.0  2.0  2.0  2.0  1.0  3.0  1.0  1.0  2.0  1.0  5.0  3.0   \n",
      "6  3.0  2.0  1.0  1.0  2.0  2.0  1.0  2.0  1.0  3.0  3.0  2.0  3.0  4.0  2.0   \n",
      "7  3.0  1.0  1.0  1.0  1.0  1.0  1.0  1.0  1.0  2.0  2.0  4.0  3.0  5.0  1.0   \n",
      "8  2.0  1.0  1.0  1.0  1.0  1.0  1.0  2.0  1.0  3.0  3.0  3.0  3.0  6.0  3.0   \n",
      "9  2.0  2.0  1.0  1.0  1.0  1.0  1.0  2.0  1.0  2.0  3.0  2.0  3.0  8.0  2.0   \n",
      "\n",
      "    15   16   17  18  \n",
      "0  1.0  1.0  1.0   1  \n",
      "1  1.0  1.0  2.0   1  \n",
      "2  2.0  2.0  4.0   1  \n",
      "3  1.0  2.0  4.0   1  \n",
      "4  2.0  2.0  7.0   1  \n",
      "5  1.0  1.0  7.0   1  \n",
      "6  2.0  2.0  2.0   0  \n",
      "7  2.0  2.0  1.0   0  \n",
      "8  1.0  2.0  4.0   0  \n",
      "9  1.0  1.0  1.0   0  \n"
     ]
    }
   ],
   "source": [
    "import pandas as pd\n",
    "\n",
    "data = pd.read_csv('lympho.csv', names = [x for x in range(0,19)])\n",
    "print(data.head(n = 10))"
   ]
  },
  {
   "cell_type": "code",
   "execution_count": 70,
   "metadata": {},
   "outputs": [
    {
     "name": "stdout",
     "output_type": "stream",
     "text": [
      "Size of data = (148, 19)\n",
      "Class distribution:\n"
     ]
    },
    {
     "data": {
      "text/plain": [
       "0    142\n",
       "1      6\n",
       "Name: 18, dtype: int64"
      ]
     },
     "execution_count": 70,
     "metadata": {},
     "output_type": "execute_result"
    }
   ],
   "source": [
    "y = data[18]\n",
    "data.drop([18] , axis=1)\n",
    "x = data\n",
    "print('Size of data =', data.shape)\n",
    "\n",
    "print('Class distribution:')\n",
    "y.value_counts()"
   ]
  },
  {
   "cell_type": "code",
   "execution_count": 72,
   "metadata": {},
   "outputs": [
    {
     "name": "stdout",
     "output_type": "stream",
     "text": [
      "     predicted  k-distance\n",
      "0          1.0    4.242641\n",
      "1          1.0    3.741657\n",
      "2          1.0    4.690416\n",
      "3          1.0    4.472136\n",
      "4          1.0    4.000000\n",
      "..         ...         ...\n",
      "143        0.0    3.741657\n",
      "144        0.0    3.464102\n",
      "145        0.0    2.645751\n",
      "146        0.0    3.000000\n",
      "147        0.0    2.449490\n",
      "\n",
      "[148 rows x 2 columns]\n"
     ]
    }
   ],
   "source": [
    "from sklearn.neighbors import NearestNeighbors\n",
    "from sklearn.neighbors import KNeighborsClassifier\n",
    "from sklearn.model_selection import train_test_split\n",
    "from sklearn.metrics import accuracy_score\n",
    "\n",
    "X_train, X_test, Y_train, Y_test = train_test_split(x, y, test_size= .8, random_state=1)\n",
    "\n",
    "knn = 10\n",
    "\n",
    "clf = KNeighborsClassifier(n_neighbors=knn)\n",
    "clf.fit(X_train, Y_train)\n",
    "Y_pred = clf.predict(X_test)\n",
    "\n",
    "    \n",
    "\n",
    "nbrs = NearestNeighbors(n_neighbors=knn+1).fit(data.values)\n",
    "distances, indices = nbrs.kneighbors(data.values)\n",
    "sort_dist = np.flipud(np.sort(distances[:,knn]))\n",
    "\n",
    "\n",
    "results = pd.DataFrame(np.column_stack((y,distances[:,knn])),columns=['predicted','k-distance'])\n",
    "\n",
    "print(results)"
   ]
  },
  {
   "cell_type": "code",
   "execution_count": 80,
   "metadata": {},
   "outputs": [
    {
     "name": "stdout",
     "output_type": "stream",
     "text": [
      "0.9663865546218487\n"
     ]
    }
   ],
   "source": [
    "from sklearn.metrics import accuracy_score\n",
    "from sklearn.metrics import confusion_matrix\n",
    "\n",
    "acc = (accuracy_score(Y_test, Y_pred))\n",
    "\n",
    "print(acc)"
   ]
  },
  {
   "cell_type": "code",
   "execution_count": 81,
   "metadata": {},
   "outputs": [
    {
     "data": {
      "text/plain": [
       "array([[115,   0],\n",
       "       [  4,   0]], dtype=int64)"
      ]
     },
     "execution_count": 81,
     "metadata": {},
     "output_type": "execute_result"
    }
   ],
   "source": [
    "cm = confusion_matrix(Y_test, Y_pred) \n",
    "cm"
   ]
  },
  {
   "cell_type": "code",
   "execution_count": null,
   "metadata": {},
   "outputs": [],
   "source": []
  }
 ],
 "metadata": {
  "kernelspec": {
   "display_name": "Python 3",
   "language": "python",
   "name": "python3"
  },
  "language_info": {
   "codemirror_mode": {
    "name": "ipython",
    "version": 3
   },
   "file_extension": ".py",
   "mimetype": "text/x-python",
   "name": "python",
   "nbconvert_exporter": "python",
   "pygments_lexer": "ipython3",
   "version": "3.7.4"
  }
 },
 "nbformat": 4,
 "nbformat_minor": 2
}
